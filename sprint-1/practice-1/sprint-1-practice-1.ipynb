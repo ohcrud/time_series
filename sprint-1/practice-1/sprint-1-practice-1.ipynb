{
 "cells": [
  {
   "cell_type": "markdown",
   "id": "9f7b9398",
   "metadata": {},
   "source": [
    "# Time Series Analysis & Data Preparation \n",
    "\n",
    "Time series analysis is one of the most common types of data analysis, as it pertains to any data/information collected and stored over a period of time. This could be anything such as yearly sales, weekly temperatures, daily energy consumption, or even categorical such as recording the air quality per day! \n",
    "\n",
    "Time series analysis is also more complex than typical data anlysis, as you'll need to do a bit of work beforehand to determine the best course of action in our analysis - certain methods are dependant on the data having particular qualities! First let's start off with exploring some time series data, getting aquainted with the structure, and some basic transformations. \n",
    "\n",
    "## Bringing in some data\n",
    "\n",
    "We will set up our workspace and bring in some data on Stack Overflow question topics, found [here](https://www.kaggle.com/datasets/aishu200023/stackindex?resource=download). This data contains columns: \n",
    "\n",
    "- `month`: the month over which question topics were summed \n",
    "- `python`: the number of questions on stack overflow pertaining to python \n",
    "- `r`: the number of questions on stack overflow pertaining to r\n",
    "- `numpy`: the number of questions on stack overflow pertaining to numpy\n",
    "- `scipy`: the number of questions on stack overflow pertaining to scipy"
   ]
  },
  {
   "cell_type": "code",
   "execution_count": 1,
   "id": "b567f26c",
   "metadata": {},
   "outputs": [],
   "source": [
    "import pandas as pd \n",
    "from matplotlib import pyplot as plt"
   ]
  },
  {
   "cell_type": "code",
   "execution_count": 32,
   "id": "33075ab5",
   "metadata": {},
   "outputs": [
    {
     "data": {
      "text/html": [
       "<div>\n",
       "<style scoped>\n",
       "    .dataframe tbody tr th:only-of-type {\n",
       "        vertical-align: middle;\n",
       "    }\n",
       "\n",
       "    .dataframe tbody tr th {\n",
       "        vertical-align: top;\n",
       "    }\n",
       "\n",
       "    .dataframe thead th {\n",
       "        text-align: right;\n",
       "    }\n",
       "</style>\n",
       "<table border=\"1\" class=\"dataframe\">\n",
       "  <thead>\n",
       "    <tr style=\"text-align: right;\">\n",
       "      <th></th>\n",
       "      <th>month</th>\n",
       "      <th>python</th>\n",
       "      <th>r</th>\n",
       "      <th>numpy</th>\n",
       "      <th>scipy</th>\n",
       "    </tr>\n",
       "  </thead>\n",
       "  <tbody>\n",
       "    <tr>\n",
       "      <th>0</th>\n",
       "      <td>09-Jan</td>\n",
       "      <td>631.0</td>\n",
       "      <td>8.0</td>\n",
       "      <td>6</td>\n",
       "      <td>2.0</td>\n",
       "    </tr>\n",
       "    <tr>\n",
       "      <th>1</th>\n",
       "      <td>09-Feb</td>\n",
       "      <td>633.0</td>\n",
       "      <td>9.0</td>\n",
       "      <td>7</td>\n",
       "      <td>NaN</td>\n",
       "    </tr>\n",
       "    <tr>\n",
       "      <th>2</th>\n",
       "      <td>09-Mar</td>\n",
       "      <td>766.0</td>\n",
       "      <td>4.0</td>\n",
       "      <td>4</td>\n",
       "      <td>2.0</td>\n",
       "    </tr>\n",
       "    <tr>\n",
       "      <th>3</th>\n",
       "      <td>09-Apr</td>\n",
       "      <td>768.0</td>\n",
       "      <td>12.0</td>\n",
       "      <td>6</td>\n",
       "      <td>3.0</td>\n",
       "    </tr>\n",
       "    <tr>\n",
       "      <th>4</th>\n",
       "      <td>09-May</td>\n",
       "      <td>NaN</td>\n",
       "      <td>NaN</td>\n",
       "      <td>7</td>\n",
       "      <td>2.0</td>\n",
       "    </tr>\n",
       "  </tbody>\n",
       "</table>\n",
       "</div>"
      ],
      "text/plain": [
       "    month  python     r  numpy  scipy\n",
       "0  09-Jan   631.0   8.0      6    2.0\n",
       "1  09-Feb   633.0   9.0      7    NaN\n",
       "2  09-Mar   766.0   4.0      4    2.0\n",
       "3  09-Apr   768.0  12.0      6    3.0\n",
       "4  09-May     NaN   NaN      7    2.0"
      ]
     },
     "execution_count": 32,
     "metadata": {},
     "output_type": "execute_result"
    }
   ],
   "source": [
    "so = pd.read_csv('stack_overflow.csv')\n",
    "so.head()"
   ]
  },
  {
   "cell_type": "markdown",
   "id": "6a95ebf6",
   "metadata": {},
   "source": [
    "## Basic exploration \n",
    "\n",
    "It is always a good idea to start off with some basic data exploration, similar to how you'd work with any other data type. This includes things like getting an overview of the data & values, and searching for any missing data, and even some cursory visualizations. \n",
    "\n",
    "Let's start by checking the data types of each column. "
   ]
  },
  {
   "cell_type": "code",
   "execution_count": 33,
   "id": "8c3274ac",
   "metadata": {},
   "outputs": [
    {
     "data": {
      "text/plain": [
       "month      object\n",
       "python    float64\n",
       "r         float64\n",
       "numpy       int64\n",
       "scipy     float64\n",
       "dtype: object"
      ]
     },
     "execution_count": 33,
     "metadata": {},
     "output_type": "execute_result"
    }
   ],
   "source": [
    "so.dtypes"
   ]
  },
  {
   "cell_type": "markdown",
   "id": "a55aaaa1",
   "metadata": {},
   "source": [
    "We see that most columns are of numeric value type, whether it be float64 or int64. However, `month`, which indicates our date, is an object! Rather than a string, we want this to be in **datetime** format as that will communicate to pandas that this is time series data & will open up the use of some handy time transformations. \n",
    "\n",
    "We can use `pd.to_datetime()` to achieve this, inputting the column to be converted and the `format` of the string-type date. We need to communicate the format of our date string to pandas using **strftime abbreviations** so it can properly convert it. Our date is in a format such as `09-Jan`, where the first value abbreviated year (`%y`) and the second value is the abbreviated month name (`%b`). So for format we input `%y-%b`. \n",
    "\n",
    "[Here](https://www.geeksforgeeks.org/python-strftime-function/) is a helpful key for all the strftime abbreviations for translating these formats! "
   ]
  },
  {
   "cell_type": "code",
   "execution_count": 34,
   "id": "cc767756",
   "metadata": {},
   "outputs": [
    {
     "data": {
      "text/html": [
       "<div>\n",
       "<style scoped>\n",
       "    .dataframe tbody tr th:only-of-type {\n",
       "        vertical-align: middle;\n",
       "    }\n",
       "\n",
       "    .dataframe tbody tr th {\n",
       "        vertical-align: top;\n",
       "    }\n",
       "\n",
       "    .dataframe thead th {\n",
       "        text-align: right;\n",
       "    }\n",
       "</style>\n",
       "<table border=\"1\" class=\"dataframe\">\n",
       "  <thead>\n",
       "    <tr style=\"text-align: right;\">\n",
       "      <th></th>\n",
       "      <th>month</th>\n",
       "      <th>python</th>\n",
       "      <th>r</th>\n",
       "      <th>numpy</th>\n",
       "      <th>scipy</th>\n",
       "    </tr>\n",
       "  </thead>\n",
       "  <tbody>\n",
       "    <tr>\n",
       "      <th>0</th>\n",
       "      <td>2009-01-01</td>\n",
       "      <td>631.0</td>\n",
       "      <td>8.0</td>\n",
       "      <td>6</td>\n",
       "      <td>2.0</td>\n",
       "    </tr>\n",
       "    <tr>\n",
       "      <th>1</th>\n",
       "      <td>2009-02-01</td>\n",
       "      <td>633.0</td>\n",
       "      <td>9.0</td>\n",
       "      <td>7</td>\n",
       "      <td>NaN</td>\n",
       "    </tr>\n",
       "    <tr>\n",
       "      <th>2</th>\n",
       "      <td>2009-03-01</td>\n",
       "      <td>766.0</td>\n",
       "      <td>4.0</td>\n",
       "      <td>4</td>\n",
       "      <td>2.0</td>\n",
       "    </tr>\n",
       "    <tr>\n",
       "      <th>3</th>\n",
       "      <td>2009-04-01</td>\n",
       "      <td>768.0</td>\n",
       "      <td>12.0</td>\n",
       "      <td>6</td>\n",
       "      <td>3.0</td>\n",
       "    </tr>\n",
       "    <tr>\n",
       "      <th>4</th>\n",
       "      <td>2009-05-01</td>\n",
       "      <td>NaN</td>\n",
       "      <td>NaN</td>\n",
       "      <td>7</td>\n",
       "      <td>2.0</td>\n",
       "    </tr>\n",
       "  </tbody>\n",
       "</table>\n",
       "</div>"
      ],
      "text/plain": [
       "       month  python     r  numpy  scipy\n",
       "0 2009-01-01   631.0   8.0      6    2.0\n",
       "1 2009-02-01   633.0   9.0      7    NaN\n",
       "2 2009-03-01   766.0   4.0      4    2.0\n",
       "3 2009-04-01   768.0  12.0      6    3.0\n",
       "4 2009-05-01     NaN   NaN      7    2.0"
      ]
     },
     "execution_count": 34,
     "metadata": {},
     "output_type": "execute_result"
    }
   ],
   "source": [
    "so['month'] =  pd.to_datetime(so['month'], format = '%y-%b')\n",
    "so.head()"
   ]
  },
  {
   "cell_type": "code",
   "execution_count": 35,
   "id": "723849d4",
   "metadata": {},
   "outputs": [
    {
     "data": {
      "text/plain": [
       "month     datetime64[ns]\n",
       "python           float64\n",
       "r                float64\n",
       "numpy              int64\n",
       "scipy            float64\n",
       "dtype: object"
      ]
     },
     "execution_count": 35,
     "metadata": {},
     "output_type": "execute_result"
    }
   ],
   "source": [
    "so.dtypes"
   ]
  },
  {
   "cell_type": "markdown",
   "id": "491c2b8f",
   "metadata": {},
   "source": [
    "See that the column type & value have been converted! \n",
    "\n",
    "Now we can use `describe` to get an idea of what values are in each column.  "
   ]
  },
  {
   "cell_type": "code",
   "execution_count": 36,
   "id": "eb46380d",
   "metadata": {},
   "outputs": [
    {
     "data": {
      "text/html": [
       "<div>\n",
       "<style scoped>\n",
       "    .dataframe tbody tr th:only-of-type {\n",
       "        vertical-align: middle;\n",
       "    }\n",
       "\n",
       "    .dataframe tbody tr th {\n",
       "        vertical-align: top;\n",
       "    }\n",
       "\n",
       "    .dataframe thead th {\n",
       "        text-align: right;\n",
       "    }\n",
       "</style>\n",
       "<table border=\"1\" class=\"dataframe\">\n",
       "  <thead>\n",
       "    <tr style=\"text-align: right;\">\n",
       "      <th></th>\n",
       "      <th>python</th>\n",
       "      <th>r</th>\n",
       "      <th>numpy</th>\n",
       "      <th>scipy</th>\n",
       "    </tr>\n",
       "  </thead>\n",
       "  <tbody>\n",
       "    <tr>\n",
       "      <th>count</th>\n",
       "      <td>125.000000</td>\n",
       "      <td>128.000000</td>\n",
       "      <td>132.000000</td>\n",
       "      <td>129.000000</td>\n",
       "    </tr>\n",
       "    <tr>\n",
       "      <th>mean</th>\n",
       "      <td>10009.384000</td>\n",
       "      <td>2437.539062</td>\n",
       "      <td>514.204545</td>\n",
       "      <td>113.968992</td>\n",
       "    </tr>\n",
       "    <tr>\n",
       "      <th>std</th>\n",
       "      <td>6236.607129</td>\n",
       "      <td>1714.422255</td>\n",
       "      <td>392.882978</td>\n",
       "      <td>69.268041</td>\n",
       "    </tr>\n",
       "    <tr>\n",
       "      <th>min</th>\n",
       "      <td>631.000000</td>\n",
       "      <td>4.000000</td>\n",
       "      <td>4.000000</td>\n",
       "      <td>2.000000</td>\n",
       "    </tr>\n",
       "    <tr>\n",
       "      <th>25%</th>\n",
       "      <td>3763.000000</td>\n",
       "      <td>612.000000</td>\n",
       "      <td>119.000000</td>\n",
       "      <td>44.000000</td>\n",
       "    </tr>\n",
       "    <tr>\n",
       "      <th>50%</th>\n",
       "      <td>9892.000000</td>\n",
       "      <td>2639.000000</td>\n",
       "      <td>486.000000</td>\n",
       "      <td>133.000000</td>\n",
       "    </tr>\n",
       "    <tr>\n",
       "      <th>75%</th>\n",
       "      <td>15752.000000</td>\n",
       "      <td>4009.250000</td>\n",
       "      <td>901.500000</td>\n",
       "      <td>172.000000</td>\n",
       "    </tr>\n",
       "    <tr>\n",
       "      <th>max</th>\n",
       "      <td>23602.000000</td>\n",
       "      <td>5138.000000</td>\n",
       "      <td>1310.000000</td>\n",
       "      <td>229.000000</td>\n",
       "    </tr>\n",
       "  </tbody>\n",
       "</table>\n",
       "</div>"
      ],
      "text/plain": [
       "             python            r        numpy       scipy\n",
       "count    125.000000   128.000000   132.000000  129.000000\n",
       "mean   10009.384000  2437.539062   514.204545  113.968992\n",
       "std     6236.607129  1714.422255   392.882978   69.268041\n",
       "min      631.000000     4.000000     4.000000    2.000000\n",
       "25%     3763.000000   612.000000   119.000000   44.000000\n",
       "50%     9892.000000  2639.000000   486.000000  133.000000\n",
       "75%    15752.000000  4009.250000   901.500000  172.000000\n",
       "max    23602.000000  5138.000000  1310.000000  229.000000"
      ]
     },
     "execution_count": 36,
     "metadata": {},
     "output_type": "execute_result"
    }
   ],
   "source": [
    "so.describe()"
   ]
  },
  {
   "cell_type": "markdown",
   "id": "646fd834",
   "metadata": {},
   "source": [
    "We can easily check for missing values in a column or all columns using `isna()`. Recall that `NaN` values are 'not a number' and act as fill values when there is data missing (see [here](https://towardsdatascience.com/5-methods-to-check-for-nan-values-in-in-python-3f21ddd17eed) for a refresher if needed). \n",
    "\n",
    "Using `isna()` alone returns a boolean dataframe telling us which cells satisfy the condition of containing `NaN`. Chaining `sum()` to it provides a count of the number of `NaN` values in each column! "
   ]
  },
  {
   "cell_type": "code",
   "execution_count": 37,
   "id": "b5bc769c",
   "metadata": {},
   "outputs": [
    {
     "data": {
      "text/plain": [
       "month     0\n",
       "python    7\n",
       "r         4\n",
       "numpy     0\n",
       "scipy     3\n",
       "dtype: int64"
      ]
     },
     "execution_count": 37,
     "metadata": {},
     "output_type": "execute_result"
    }
   ],
   "source": [
    "so.isna().sum()"
   ]
  },
  {
   "cell_type": "markdown",
   "id": "93c98264",
   "metadata": {},
   "source": [
    "Here we see that the `python` column is missing 7 values (contains 7 `NaN` values), `r` is missing 4, and `scipy` is missing 3. The `month` and `numpy` columns have no missing values. \n",
    "\n",
    "Visualization is especially important in time series analysis as our eye is often pretty good at picking out broad trends. Let's use **matplotlib** to create a basic time series plot with time on the x axis, and the count of questions on each topic/package on the y axis. "
   ]
  },
  {
   "cell_type": "code",
   "execution_count": 38,
   "id": "cb7c496b",
   "metadata": {},
   "outputs": [
    {
     "data": {
      "image/png": "[encoded data removed]",
      "text/plain": [
       "<Figure size 432x288 with 1 Axes>"
      ]
     },
     "metadata": {
      "needs_background": "light"
     },
     "output_type": "display_data"
    }
   ],
   "source": [
    "plt.plot(so.month, so.python, c = 'b', label = 'Python')\n",
    "plt.plot(so.month, so.r, c = 'r', label = 'r')\n",
    "plt.plot(so.month, so.numpy, c = 'k', label = 'numpy')\n",
    "plt.plot(so.month, so.scipy, c = 'c', label = 'scipy')\n",
    "\n",
    "plt.title('Stack Overflow Questions')\n",
    "plt.xlabel('Date')\n",
    "plt.ylabel('Count')\n",
    "plt.legend()\n",
    "plt.grid(which = 'major')"
   ]
  },
  {
   "cell_type": "markdown",
   "id": "ceeb1fae",
   "metadata": {},
   "source": [
    "Great! We can see that by far python has the biggest growth in questions over time & the most questions asked overall. R experiences growth over time, but not nearly as much as python. Numpy and scipy have a small amount of questions and minimal growth over time. \n",
    "\n",
    "You can also see that there are some gaps in the data where we identified `NaN` values! This is shown as a break in the line & is most obvious for python around 2013, 2015 and 2017. "
   ]
  },
  {
   "cell_type": "markdown",
   "id": "f3fce840",
   "metadata": {},
   "source": [
    "## Filling missing values \n",
    "\n",
    "### Don't use mean filling! \n",
    "Before proceeding we want to fill any missing data with a meaningful value. In other words, we want to figure out what value we can replace any `NaN` values with. It is common to fill missing data with a mean or median values, but this is **not** recommended with time series data! We will demonstrate why mean-filling is not a good approach with time series data & demonstrate some useful alternatives.\n",
    "\n",
    "Let's create a new dataframe called `python` that only contains the `month` and `python` column from `so`. We will also add a new column called `meanfill` in which we use `fillna` to replace all `NaN` values with the mean of the original `python` column. "
   ]
  },
  {
   "cell_type": "code",
   "execution_count": 39,
   "id": "654c035a",
   "metadata": {},
   "outputs": [
    {
     "name": "stderr",
     "output_type": "stream",
     "text": [
      "<ipython-input-39-ce31e895eba2>:2: SettingWithCopyWarning: \n",
      "A value is trying to be set on a copy of a slice from a DataFrame.\n",
      "Try using .loc[row_indexer,col_indexer] = value instead\n",
      "\n",
      "See the caveats in the documentation: https://pandas.pydata.org/pandas-docs/stable/user_guide/indexing.html#returning-a-view-versus-a-copy\n",
      "  py['meanfill'] = py['python'].fillna(py['python'].mean())\n"
     ]
    },
    {
     "data": {
      "text/html": [
       "<div>\n",
       "<style scoped>\n",
       "    .dataframe tbody tr th:only-of-type {\n",
       "        vertical-align: middle;\n",
       "    }\n",
       "\n",
       "    .dataframe tbody tr th {\n",
       "        vertical-align: top;\n",
       "    }\n",
       "\n",
       "    .dataframe thead th {\n",
       "        text-align: right;\n",
       "    }\n",
       "</style>\n",
       "<table border=\"1\" class=\"dataframe\">\n",
       "  <thead>\n",
       "    <tr style=\"text-align: right;\">\n",
       "      <th></th>\n",
       "      <th>month</th>\n",
       "      <th>python</th>\n",
       "      <th>meanfill</th>\n",
       "    </tr>\n",
       "  </thead>\n",
       "  <tbody>\n",
       "    <tr>\n",
       "      <th>0</th>\n",
       "      <td>2009-01-01</td>\n",
       "      <td>631.0</td>\n",
       "      <td>631.000</td>\n",
       "    </tr>\n",
       "    <tr>\n",
       "      <th>1</th>\n",
       "      <td>2009-02-01</td>\n",
       "      <td>633.0</td>\n",
       "      <td>633.000</td>\n",
       "    </tr>\n",
       "    <tr>\n",
       "      <th>2</th>\n",
       "      <td>2009-03-01</td>\n",
       "      <td>766.0</td>\n",
       "      <td>766.000</td>\n",
       "    </tr>\n",
       "    <tr>\n",
       "      <th>3</th>\n",
       "      <td>2009-04-01</td>\n",
       "      <td>768.0</td>\n",
       "      <td>768.000</td>\n",
       "    </tr>\n",
       "    <tr>\n",
       "      <th>4</th>\n",
       "      <td>2009-05-01</td>\n",
       "      <td>NaN</td>\n",
       "      <td>10009.384</td>\n",
       "    </tr>\n",
       "  </tbody>\n",
       "</table>\n",
       "</div>"
      ],
      "text/plain": [
       "       month  python   meanfill\n",
       "0 2009-01-01   631.0    631.000\n",
       "1 2009-02-01   633.0    633.000\n",
       "2 2009-03-01   766.0    766.000\n",
       "3 2009-04-01   768.0    768.000\n",
       "4 2009-05-01     NaN  10009.384"
      ]
     },
     "execution_count": 39,
     "metadata": {},
     "output_type": "execute_result"
    }
   ],
   "source": [
    "py = so[['month', 'python']]\n",
    "py['meanfill'] = py['python'].fillna(py['python'].mean())\n",
    "py.head()"
   ]
  },
  {
   "cell_type": "code",
   "execution_count": 40,
   "id": "9702caf2",
   "metadata": {},
   "outputs": [
    {
     "data": {
      "image/png": "[encoded data removed]",
      "text/plain": [
       "<Figure size 432x288 with 1 Axes>"
      ]
     },
     "metadata": {
      "needs_background": "light"
     },
     "output_type": "display_data"
    }
   ],
   "source": [
    "plt.plot(py.month, py.python, c = 'b', linewidth = 3, label = 'original')\n",
    "plt.plot(py.month, py.meanfill, c = 'c', linestyle = '--', label = 'fill NaN with mean')\n",
    "\n",
    "plt.title('Stack Overflow Questions')\n",
    "plt.xlabel('Date')\n",
    "plt.ylabel('Count')\n",
    "plt.legend()\n",
    "plt.grid(which = 'major')"
   ]
  },
  {
   "cell_type": "markdown",
   "id": "0730a4be",
   "metadata": {},
   "source": [
    "The above plot shows the original data in blue & the mean filled data in red. See how the filled values jump out! This is **not** a good method for filling values as time series data tends to grow/shrink over time in such a way that the mean value is not representative of the data at various points in time. \n",
    "\n",
    "### Interpolating values \n",
    "\n",
    "The suggested method for filling values in a time series is using interpolation, which can be done using the pandas **`interpolate`** function ([documentation](https://pandas.pydata.org/docs/reference/api/pandas.DataFrame.interpolate.html)). Rather than hard-coding the value like we did with `fillna`, `interpolate` uses the values surrounding the missing value to guess a reasonable fill value. \n",
    "\n",
    "There are a variety of methods that can be used, the default being **`linear`** which according to the documentation ignores the data's index and treats the values as equally spaced. \n",
    "\n",
    "Let's add a column to our `python` dataframe containing linearly interpolated values & see how that compares to our mean-fill method. As a note, since we do not have any consecutive `NaN` values we do not need to specify the `fill direction` parameter. We also do not need to set the `limit` paramter which indicates the maximum number of consecutive `NaN`s to fill - this is so we do not fill long stretches of time with missing data, which tends to not be best practice. "
   ]
  },
  {
   "cell_type": "code",
   "execution_count": 41,
   "id": "de49d89a",
   "metadata": {},
   "outputs": [
    {
     "name": "stderr",
     "output_type": "stream",
     "text": [
      "<ipython-input-41-5cd1109cf943>:1: SettingWithCopyWarning: \n",
      "A value is trying to be set on a copy of a slice from a DataFrame.\n",
      "Try using .loc[row_indexer,col_indexer] = value instead\n",
      "\n",
      "See the caveats in the documentation: https://pandas.pydata.org/pandas-docs/stable/user_guide/indexing.html#returning-a-view-versus-a-copy\n",
      "  py['linear'] = py['python'].interpolate(method ='linear')\n"
     ]
    }
   ],
   "source": [
    "py['linear'] = py['python'].interpolate(method ='linear')"
   ]
  },
  {
   "cell_type": "markdown",
   "id": "850d1d0f",
   "metadata": {},
   "source": [
    "Another method we will demonstrate is **`pad`** which uses existing values to fill the gaps. `pad` works with a forward `limit_direction`, which means that a missing value will take on the value of that which came before it. "
   ]
  },
  {
   "cell_type": "code",
   "execution_count": 42,
   "id": "9d365bf2",
   "metadata": {},
   "outputs": [],
   "source": [
    "py['padded'] = py['python'].interpolate(method ='pad')"
   ]
  },
  {
   "cell_type": "markdown",
   "id": "9a589b50",
   "metadata": {},
   "source": [
    "Let's add all these to a plot and do a quick eyeball analysis to see which performed best. "
   ]
  },
  {
   "cell_type": "code",
   "execution_count": 43,
   "id": "539af2fb",
   "metadata": {},
   "outputs": [
    {
     "data": {
      "image/png": "[encoded data removed]",
      "text/plain": [
       "<Figure size 432x288 with 1 Axes>"
      ]
     },
     "metadata": {
      "needs_background": "light"
     },
     "output_type": "display_data"
    }
   ],
   "source": [
    "plt.plot(py.month, py.meanfill, c = 'c', linestyle = '--', linewidth = 1, label = 'fill NaN with mean')\n",
    "plt.plot(py.month, py.linear, c = 'r', linestyle = '-.', linewidth = 4, label = 'linear interpolation')\n",
    "plt.plot(py.month, py.padded, c = 'b', linestyle = '--', linewidth = 4, label = 'padded')\n",
    "plt.plot(py.month, py.python, c = 'k', linewidth = 1, label = 'original')\n",
    "\n",
    "plt.title('Stack Overflow Questions')\n",
    "plt.xlabel('Date')\n",
    "plt.ylabel('Count')\n",
    "plt.legend()\n",
    "plt.grid(which = 'major')"
   ]
  },
  {
   "cell_type": "code",
   "execution_count": 44,
   "id": "966e59e6",
   "metadata": {},
   "outputs": [
    {
     "data": {
      "text/html": [
       "<div>\n",
       "<style scoped>\n",
       "    .dataframe tbody tr th:only-of-type {\n",
       "        vertical-align: middle;\n",
       "    }\n",
       "\n",
       "    .dataframe tbody tr th {\n",
       "        vertical-align: top;\n",
       "    }\n",
       "\n",
       "    .dataframe thead th {\n",
       "        text-align: right;\n",
       "    }\n",
       "</style>\n",
       "<table border=\"1\" class=\"dataframe\">\n",
       "  <thead>\n",
       "    <tr style=\"text-align: right;\">\n",
       "      <th></th>\n",
       "      <th>month</th>\n",
       "      <th>python</th>\n",
       "      <th>meanfill</th>\n",
       "      <th>linear</th>\n",
       "      <th>padded</th>\n",
       "    </tr>\n",
       "  </thead>\n",
       "  <tbody>\n",
       "    <tr>\n",
       "      <th>0</th>\n",
       "      <td>2009-01-01</td>\n",
       "      <td>631.0</td>\n",
       "      <td>631.000</td>\n",
       "      <td>631.0</td>\n",
       "      <td>631.0</td>\n",
       "    </tr>\n",
       "    <tr>\n",
       "      <th>1</th>\n",
       "      <td>2009-02-01</td>\n",
       "      <td>633.0</td>\n",
       "      <td>633.000</td>\n",
       "      <td>633.0</td>\n",
       "      <td>633.0</td>\n",
       "    </tr>\n",
       "    <tr>\n",
       "      <th>2</th>\n",
       "      <td>2009-03-01</td>\n",
       "      <td>766.0</td>\n",
       "      <td>766.000</td>\n",
       "      <td>766.0</td>\n",
       "      <td>766.0</td>\n",
       "    </tr>\n",
       "    <tr>\n",
       "      <th>3</th>\n",
       "      <td>2009-04-01</td>\n",
       "      <td>768.0</td>\n",
       "      <td>768.000</td>\n",
       "      <td>768.0</td>\n",
       "      <td>768.0</td>\n",
       "    </tr>\n",
       "    <tr>\n",
       "      <th>4</th>\n",
       "      <td>2009-05-01</td>\n",
       "      <td>NaN</td>\n",
       "      <td>10009.384</td>\n",
       "      <td>907.0</td>\n",
       "      <td>768.0</td>\n",
       "    </tr>\n",
       "    <tr>\n",
       "      <th>5</th>\n",
       "      <td>2009-06-01</td>\n",
       "      <td>1046.0</td>\n",
       "      <td>1046.000</td>\n",
       "      <td>1046.0</td>\n",
       "      <td>1046.0</td>\n",
       "    </tr>\n",
       "    <tr>\n",
       "      <th>6</th>\n",
       "      <td>2009-07-01</td>\n",
       "      <td>1165.0</td>\n",
       "      <td>1165.000</td>\n",
       "      <td>1165.0</td>\n",
       "      <td>1165.0</td>\n",
       "    </tr>\n",
       "    <tr>\n",
       "      <th>7</th>\n",
       "      <td>2009-08-01</td>\n",
       "      <td>1143.0</td>\n",
       "      <td>1143.000</td>\n",
       "      <td>1143.0</td>\n",
       "      <td>1143.0</td>\n",
       "    </tr>\n",
       "    <tr>\n",
       "      <th>8</th>\n",
       "      <td>2009-09-01</td>\n",
       "      <td>1169.0</td>\n",
       "      <td>1169.000</td>\n",
       "      <td>1169.0</td>\n",
       "      <td>1169.0</td>\n",
       "    </tr>\n",
       "    <tr>\n",
       "      <th>9</th>\n",
       "      <td>2009-10-01</td>\n",
       "      <td>1424.0</td>\n",
       "      <td>1424.000</td>\n",
       "      <td>1424.0</td>\n",
       "      <td>1424.0</td>\n",
       "    </tr>\n",
       "  </tbody>\n",
       "</table>\n",
       "</div>"
      ],
      "text/plain": [
       "       month  python   meanfill  linear  padded\n",
       "0 2009-01-01   631.0    631.000   631.0   631.0\n",
       "1 2009-02-01   633.0    633.000   633.0   633.0\n",
       "2 2009-03-01   766.0    766.000   766.0   766.0\n",
       "3 2009-04-01   768.0    768.000   768.0   768.0\n",
       "4 2009-05-01     NaN  10009.384   907.0   768.0\n",
       "5 2009-06-01  1046.0   1046.000  1046.0  1046.0\n",
       "6 2009-07-01  1165.0   1165.000  1165.0  1165.0\n",
       "7 2009-08-01  1143.0   1143.000  1143.0  1143.0\n",
       "8 2009-09-01  1169.0   1169.000  1169.0  1169.0\n",
       "9 2009-10-01  1424.0   1424.000  1424.0  1424.0"
      ]
     },
     "execution_count": 44,
     "metadata": {},
     "output_type": "execute_result"
    }
   ],
   "source": [
    "py.iloc[0:10]"
   ]
  },
  {
   "cell_type": "markdown",
   "id": "c4d884be",
   "metadata": {},
   "source": [
    "As mentioned previously the mean fill method is clearly not the best choice. You can see that there is little discernable visual difference between the linear interpolation & the padded fill values. Both of these seem to be good options and fit in reasonably well with the original data. \n",
    "\n",
    "Looking at the fill values themselves (see index 4), you can see that the padded interpolation value repeats the 768 value from index 3 to fill the missing value at 4. The linear interpolated value picks a value halfway between index 3 and 5 (values 768 and 1046) to fill the position at value 4 with 907. \n",
    "\n",
    "Exactly which method you use (linear interpolation, padding, or any other method available in the function) will have to be determined on a case by case basis depending on the data but these two are the most common & tend to be reliable in most cases. \n",
    "\n",
    "<hr style=\"border:2px solid gray\"> </hr>\n",
    "\n",
    "### Now you try! \n",
    "\n",
    "Fill the missing values from the `r` column in our `so` dataframe with using linear interpolation. Name the new column in `so` `r_interp`. Plot the original and filled versions together. "
   ]
  },
  {
   "cell_type": "code",
   "execution_count": 45,
   "id": "e5beadb5",
   "metadata": {},
   "outputs": [
    {
     "data": {
      "image/png": "[encoded data removed]",
      "text/plain": [
       "<Figure size 432x288 with 1 Axes>"
      ]
     },
     "metadata": {
      "needs_background": "light"
     },
     "output_type": "display_data"
    }
   ],
   "source": [
    "### BEGIN SOLUTION \n",
    "\n",
    "so['r_interp'] = so['r'].interpolate(method = 'linear')\n",
    "\n",
    "plt.plot(so.month, so.r, c = 'r', linestyle = '-', linewidth = 4, label = 'original')\n",
    "plt.plot(so.month, so.r_interp, c = 'k', linewidth = 1, label = 'padded')\n",
    "\n",
    "plt.title('Stack Overflow Questions on r')\n",
    "plt.xlabel('Date')\n",
    "plt.ylabel('Count')\n",
    "plt.legend()\n",
    "plt.grid(which = 'major')\n",
    "\n",
    "### END SOLUTION "
   ]
  },
  {
   "cell_type": "markdown",
   "id": "885aa900",
   "metadata": {},
   "source": [
    "<hr style=\"border:2px solid gray\"> </hr>\n",
    "\n",
    "## Resampling \n",
    "\n",
    "Another useful transformation for time series data is **resampling**. This means transforming the data frequency from finer to coarser - e.g. from daily data to weekly or monthly data. This can be achieved using pandas' `resample` function ([documentation](https://pandas.pydata.org/docs/reference/api/pandas.DataFrame.resample.html)). \n",
    "\n",
    "We have yearly stack overflow question frequency on 'matlab' in the file `matlab_yearly.csv`. This contains the total number of questions asked about matlab **per year**. "
   ]
  },
  {
   "cell_type": "code",
   "execution_count": 46,
   "id": "80dea438",
   "metadata": {},
   "outputs": [
    {
     "data": {
      "text/html": [
       "<div>\n",
       "<style scoped>\n",
       "    .dataframe tbody tr th:only-of-type {\n",
       "        vertical-align: middle;\n",
       "    }\n",
       "\n",
       "    .dataframe tbody tr th {\n",
       "        vertical-align: top;\n",
       "    }\n",
       "\n",
       "    .dataframe thead th {\n",
       "        text-align: right;\n",
       "    }\n",
       "</style>\n",
       "<table border=\"1\" class=\"dataframe\">\n",
       "  <thead>\n",
       "    <tr style=\"text-align: right;\">\n",
       "      <th></th>\n",
       "      <th>year</th>\n",
       "      <th>matlab</th>\n",
       "    </tr>\n",
       "  </thead>\n",
       "  <tbody>\n",
       "    <tr>\n",
       "      <th>0</th>\n",
       "      <td>2009-01-01</td>\n",
       "      <td>599</td>\n",
       "    </tr>\n",
       "    <tr>\n",
       "      <th>1</th>\n",
       "      <td>2010-01-01</td>\n",
       "      <td>1822</td>\n",
       "    </tr>\n",
       "    <tr>\n",
       "      <th>2</th>\n",
       "      <td>2011-01-01</td>\n",
       "      <td>3934</td>\n",
       "    </tr>\n",
       "    <tr>\n",
       "      <th>3</th>\n",
       "      <td>2012-01-01</td>\n",
       "      <td>7268</td>\n",
       "    </tr>\n",
       "    <tr>\n",
       "      <th>4</th>\n",
       "      <td>2013-01-01</td>\n",
       "      <td>11712</td>\n",
       "    </tr>\n",
       "  </tbody>\n",
       "</table>\n",
       "</div>"
      ],
      "text/plain": [
       "        year  matlab\n",
       "0 2009-01-01     599\n",
       "1 2010-01-01    1822\n",
       "2 2011-01-01    3934\n",
       "3 2012-01-01    7268\n",
       "4 2013-01-01   11712"
      ]
     },
     "execution_count": 46,
     "metadata": {},
     "output_type": "execute_result"
    }
   ],
   "source": [
    "matlab = pd.read_csv('matlab_yearly.csv')\n",
    "matlab['year'] = pd.to_datetime(matlab['year'], format = '%Y')\n",
    "matlab.head()"
   ]
  },
  {
   "cell_type": "markdown",
   "id": "cd1282c8",
   "metadata": {},
   "source": [
    "Say we want to compare this to our question frequency from the `r` column of our `so` dataframe to the yearly matlab values. We can try plotting them together, such as below, but the matlab data shows yearly sums, which is not readily comparable to the monthly sums shown for R! "
   ]
  },
  {
   "cell_type": "code",
   "execution_count": 47,
   "id": "50f3a99f",
   "metadata": {},
   "outputs": [
    {
     "data": {
      "image/png": "[encoded data removed]",
      "text/plain": [
       "<Figure size 432x288 with 1 Axes>"
      ]
     },
     "metadata": {
      "needs_background": "light"
     },
     "output_type": "display_data"
    }
   ],
   "source": [
    "plt.plot(so.month, so.r_interp, c = 'b', label = 'r')\n",
    "plt.plot(matlab.year, matlab.matlab, c = 'r', label = 'matlab')\n",
    "\n",
    "plt.title('Stack Overflow Questions')\n",
    "plt.xlabel('Date')\n",
    "plt.ylabel('Count')\n",
    "plt.legend()\n",
    "plt.grid(which = 'major')"
   ]
  },
  {
   "cell_type": "markdown",
   "id": "222366d7",
   "metadata": {},
   "source": [
    "Let's **resample** the `r_filled` column to show **yearly totals** rather than monthly values. \n",
    "\n",
    "We accomplish this usin `df.resample()` inputting a `freq` or frequency of `Y`, for year. Other `freq` inputs are possible such as `M` for monthly, `D` for daily, `3Y` for 3 yearly, but it must always be making the data **coarser**, not finer! \n",
    "\n",
    "We compute a summary value over the given time period by applying an operation like `sum` or `mean` to translate the monthly values into yearly values. In this case we will use `sum` to match the matlab data. \n",
    "\n",
    "For this to work, the index of the dataframe must be our datetime column, so we will apply that using `set_index`. "
   ]
  },
  {
   "cell_type": "code",
   "execution_count": 57,
   "id": "e42c0450",
   "metadata": {},
   "outputs": [
    {
     "data": {
      "text/html": [
       "<div>\n",
       "<style scoped>\n",
       "    .dataframe tbody tr th:only-of-type {\n",
       "        vertical-align: middle;\n",
       "    }\n",
       "\n",
       "    .dataframe tbody tr th {\n",
       "        vertical-align: top;\n",
       "    }\n",
       "\n",
       "    .dataframe thead th {\n",
       "        text-align: right;\n",
       "    }\n",
       "</style>\n",
       "<table border=\"1\" class=\"dataframe\">\n",
       "  <thead>\n",
       "    <tr style=\"text-align: right;\">\n",
       "      <th></th>\n",
       "      <th>r_interp</th>\n",
       "    </tr>\n",
       "    <tr>\n",
       "      <th>month</th>\n",
       "      <th></th>\n",
       "    </tr>\n",
       "  </thead>\n",
       "  <tbody>\n",
       "    <tr>\n",
       "      <th>2009-12-31</th>\n",
       "      <td>530.5</td>\n",
       "    </tr>\n",
       "    <tr>\n",
       "      <th>2010-12-31</th>\n",
       "      <td>2266.0</td>\n",
       "    </tr>\n",
       "    <tr>\n",
       "      <th>2011-12-31</th>\n",
       "      <td>5870.0</td>\n",
       "    </tr>\n",
       "    <tr>\n",
       "      <th>2012-12-31</th>\n",
       "      <td>12195.0</td>\n",
       "    </tr>\n",
       "    <tr>\n",
       "      <th>2013-12-31</th>\n",
       "      <td>22134.5</td>\n",
       "    </tr>\n",
       "  </tbody>\n",
       "</table>\n",
       "</div>"
      ],
      "text/plain": [
       "            r_interp\n",
       "month               \n",
       "2009-12-31     530.5\n",
       "2010-12-31    2266.0\n",
       "2011-12-31    5870.0\n",
       "2012-12-31   12195.0\n",
       "2013-12-31   22134.5"
      ]
     },
     "execution_count": 57,
     "metadata": {},
     "output_type": "execute_result"
    }
   ],
   "source": [
    "r = so[['month', 'r_interp']]\n",
    "\n",
    "r.set_index('month', inplace = True)\n",
    "r_yearly = r.resample('Y').sum()\n",
    "r_yearly.head()"
   ]
  },
  {
   "cell_type": "markdown",
   "id": "67a8304a",
   "metadata": {},
   "source": [
    "You'll notice that in addition to the number of rows changing & the values now reflecting yarly totals, the index has changed as well. The index column called `month` now shows the last day of each year. Resampling will change your timestamp value in such a way that it reflects the **end** of the resampling period. \n",
    "\n",
    "You'll also notice that the headers are offset above the `month` column label. This is because resampling creates what is called a **multiindex**. We can do away with this for now by using `reset_index`. We will also rename the `month` column to `year`. "
   ]
  },
  {
   "cell_type": "code",
   "execution_count": 58,
   "id": "00de866c",
   "metadata": {},
   "outputs": [
    {
     "data": {
      "text/html": [
       "<div>\n",
       "<style scoped>\n",
       "    .dataframe tbody tr th:only-of-type {\n",
       "        vertical-align: middle;\n",
       "    }\n",
       "\n",
       "    .dataframe tbody tr th {\n",
       "        vertical-align: top;\n",
       "    }\n",
       "\n",
       "    .dataframe thead th {\n",
       "        text-align: right;\n",
       "    }\n",
       "</style>\n",
       "<table border=\"1\" class=\"dataframe\">\n",
       "  <thead>\n",
       "    <tr style=\"text-align: right;\">\n",
       "      <th></th>\n",
       "      <th>year</th>\n",
       "      <th>r_interp</th>\n",
       "    </tr>\n",
       "  </thead>\n",
       "  <tbody>\n",
       "    <tr>\n",
       "      <th>0</th>\n",
       "      <td>2009-12-31</td>\n",
       "      <td>530.5</td>\n",
       "    </tr>\n",
       "    <tr>\n",
       "      <th>1</th>\n",
       "      <td>2010-12-31</td>\n",
       "      <td>2266.0</td>\n",
       "    </tr>\n",
       "    <tr>\n",
       "      <th>2</th>\n",
       "      <td>2011-12-31</td>\n",
       "      <td>5870.0</td>\n",
       "    </tr>\n",
       "    <tr>\n",
       "      <th>3</th>\n",
       "      <td>2012-12-31</td>\n",
       "      <td>12195.0</td>\n",
       "    </tr>\n",
       "    <tr>\n",
       "      <th>4</th>\n",
       "      <td>2013-12-31</td>\n",
       "      <td>22134.5</td>\n",
       "    </tr>\n",
       "  </tbody>\n",
       "</table>\n",
       "</div>"
      ],
      "text/plain": [
       "        year  r_interp\n",
       "0 2009-12-31     530.5\n",
       "1 2010-12-31    2266.0\n",
       "2 2011-12-31    5870.0\n",
       "3 2012-12-31   12195.0\n",
       "4 2013-12-31   22134.5"
      ]
     },
     "execution_count": 58,
     "metadata": {},
     "output_type": "execute_result"
    }
   ],
   "source": [
    "r_yearly.reset_index(inplace = True)\n",
    "r_yearly.rename(columns = {'month': 'year'}, inplace = True)\n",
    "r_yearly.head()"
   ]
  },
  {
   "cell_type": "markdown",
   "id": "83a262fa",
   "metadata": {},
   "source": [
    "We are almost ready to make a comparison! One last thing stands in our way - the year index in `r_yearly` reflects that last day in the year, while the year in `matlab` reflects the first day of the year. We ideally want the two times to be the same. \n",
    "\n",
    "We can fix this in a number of ways, one being to just reset the `r_yearly` index with the `matlab` values\n",
    "\n",
    "        r_yearly.set_index(matlab.year, inplace = True)\n",
    "\n",
    "\n",
    "However, this only works if the time frame of the two datasets is identical. In this case it will work, but it's not the most reliable method! It would be better to implement a **time offset**. This is a method implemented after resampling to adjust back to the middle of the timeframe.  We can import `to_offset` from the `tseries.frequencies` pandas package which will allow us to do this. \n",
    "\n",
    "Let's make the `r_yearly` dates match those from `matlab` by subtracting 364 days. We will set our `loffset` to `364D` to indicate this. We will subtract this offset from our `year` column to create a new column, `year_offset`. This will transform our date from last day of the year to the first day of the year. It will be off by a day for leap years, but we will ignore that for now. "
   ]
  },
  {
   "cell_type": "code",
   "execution_count": 63,
   "id": "e8974867",
   "metadata": {},
   "outputs": [
    {
     "data": {
      "text/html": [
       "<div>\n",
       "<style scoped>\n",
       "    .dataframe tbody tr th:only-of-type {\n",
       "        vertical-align: middle;\n",
       "    }\n",
       "\n",
       "    .dataframe tbody tr th {\n",
       "        vertical-align: top;\n",
       "    }\n",
       "\n",
       "    .dataframe thead th {\n",
       "        text-align: right;\n",
       "    }\n",
       "</style>\n",
       "<table border=\"1\" class=\"dataframe\">\n",
       "  <thead>\n",
       "    <tr style=\"text-align: right;\">\n",
       "      <th></th>\n",
       "      <th>year</th>\n",
       "      <th>r_interp</th>\n",
       "      <th>year_offset</th>\n",
       "    </tr>\n",
       "  </thead>\n",
       "  <tbody>\n",
       "    <tr>\n",
       "      <th>0</th>\n",
       "      <td>2009-12-31</td>\n",
       "      <td>530.5</td>\n",
       "      <td>2009-01-01</td>\n",
       "    </tr>\n",
       "    <tr>\n",
       "      <th>1</th>\n",
       "      <td>2010-12-31</td>\n",
       "      <td>2266.0</td>\n",
       "      <td>2010-01-01</td>\n",
       "    </tr>\n",
       "    <tr>\n",
       "      <th>2</th>\n",
       "      <td>2011-12-31</td>\n",
       "      <td>5870.0</td>\n",
       "      <td>2011-01-01</td>\n",
       "    </tr>\n",
       "    <tr>\n",
       "      <th>3</th>\n",
       "      <td>2012-12-31</td>\n",
       "      <td>12195.0</td>\n",
       "      <td>2012-01-02</td>\n",
       "    </tr>\n",
       "    <tr>\n",
       "      <th>4</th>\n",
       "      <td>2013-12-31</td>\n",
       "      <td>22134.5</td>\n",
       "      <td>2013-01-01</td>\n",
       "    </tr>\n",
       "  </tbody>\n",
       "</table>\n",
       "</div>"
      ],
      "text/plain": [
       "        year  r_interp year_offset\n",
       "0 2009-12-31     530.5  2009-01-01\n",
       "1 2010-12-31    2266.0  2010-01-01\n",
       "2 2011-12-31    5870.0  2011-01-01\n",
       "3 2012-12-31   12195.0  2012-01-02\n",
       "4 2013-12-31   22134.5  2013-01-01"
      ]
     },
     "execution_count": 63,
     "metadata": {},
     "output_type": "execute_result"
    }
   ],
   "source": [
    "from pandas.tseries.frequencies import to_offset\n",
    "\n",
    "loffset = '364D'\n",
    "r_yearly['year_offset'] = r_yearly['year'] - to_offset(loffset)\n",
    "r_yearly.head()"
   ]
  },
  {
   "cell_type": "markdown",
   "id": "ee169e48",
   "metadata": {},
   "source": [
    "Now we can finally make a meaningful comparison! Let's plot the yearly `matlab` data alongside the new yearly `r_yearly` data. Remember we have to use the `year_offset` column we created as our x axis variable so it matches the matlab time frequency! "
   ]
  },
  {
   "cell_type": "code",
   "execution_count": 64,
   "id": "1931a610",
   "metadata": {},
   "outputs": [
    {
     "data": {
      "image/png": "[encoded data removed]",
      "text/plain": [
       "<Figure size 432x288 with 1 Axes>"
      ]
     },
     "metadata": {
      "needs_background": "light"
     },
     "output_type": "display_data"
    }
   ],
   "source": [
    "plt.plot(r_yearly.year_offset, r_yearly.r_interp, c = 'b', label = 'r')\n",
    "plt.plot(matlab.year, matlab.matlab, c = 'r', label = 'matlab')\n",
    "\n",
    "plt.title('Stack Overflow Questions')\n",
    "plt.xlabel('Date')\n",
    "plt.ylabel('Count')\n",
    "plt.legend()\n",
    "plt.grid(which = 'major')"
   ]
  },
  {
   "cell_type": "markdown",
   "id": "13848922",
   "metadata": {},
   "source": [
    "Great, now we can meaningfully compare the two. It looks like matlab questions peaked in popularity in 2014-2015 and had steadily declined since then. In contrast, R seems to have greatly climbed in popularity until around 2017 when it began to level off. \n",
    "\n",
    "## Moving averages \n",
    "\n",
    "Finally, "
   ]
  },
  {
   "cell_type": "code",
   "execution_count": null,
   "id": "9bd2f0ee",
   "metadata": {},
   "outputs": [],
   "source": []
  },
  {
   "cell_type": "code",
   "execution_count": null,
   "id": "90621834",
   "metadata": {},
   "outputs": [],
   "source": []
  },
  {
   "cell_type": "code",
   "execution_count": null,
   "id": "b63c0e8d",
   "metadata": {},
   "outputs": [],
   "source": []
  },
  {
   "cell_type": "markdown",
   "id": "9e18a246",
   "metadata": {},
   "source": [
    "<hr style=\"border:2px solid gray\"> </hr>\n",
    "\n",
    "# Practice on your own \n",
    "\n",
    "#### Exercise 1. "
   ]
  },
  {
   "cell_type": "code",
   "execution_count": null,
   "id": "a43fe19d",
   "metadata": {},
   "outputs": [],
   "source": []
  }
 ],
 "metadata": {
  "kernelspec": {
   "display_name": "Python 3",
   "language": "python",
   "name": "python3"
  },
  "language_info": {
   "codemirror_mode": {
    "name": "ipython",
    "version": 3
   },
   "file_extension": ".py",
   "mimetype": "text/x-python",
   "name": "python",
   "nbconvert_exporter": "python",
   "pygments_lexer": "ipython3",
   "version": "3.8.8"
  }
 },
 "nbformat": 4,
 "nbformat_minor": 5
}
